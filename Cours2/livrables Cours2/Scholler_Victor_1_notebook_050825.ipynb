{
 "cells": [
  {
   "cell_type": "markdown",
   "id": "7c9dcb55-63b4-448c-b2ac-3bd8b0faf371",
   "metadata": {},
   "source": [
    "<b>EXERCICE 1</b>\n",
    "***"
   ]
  },
  {
   "cell_type": "code",
   "execution_count": 1,
   "id": "b9c92a90-c036-4ada-9237-369338678468",
   "metadata": {},
   "outputs": [],
   "source": [
    "import sys\n",
    "import pandas as pd\n",
    "import numpy as np"
   ]
  },
  {
   "cell_type": "markdown",
   "id": "df2e5bc5-06fa-4b93-b00d-74a850640799",
   "metadata": {},
   "source": [
    "<B>Chargement et création du dataframe avec les données de différentes variables (population, education, dépenses ...)  dans chaque pays, sur différentes années</b>"
   ]
  },
  {
   "cell_type": "code",
   "execution_count": 2,
   "id": "a80ebafe-545e-48a2-a602-dbcf43efdfdb",
   "metadata": {},
   "outputs": [],
   "source": [
    "path_EdStatsData = \"C:/Users/victo/Desktop/Formation Data Scientist OpenClassRoom/Cours2/EdStatsData.csv\"\n",
    "df_EdStatsData = pd.read_csv(path_EdStatsData)\n",
    "\n",
    "path_EdStatsSeries = \"C:/Users/victo/Desktop/Formation Data Scientist OpenClassRoom/Cours2/EdStatsSeries.csv\"\n",
    "df_EdStatsSeries = pd.read_csv(path_EdStatsSeries)\n",
    "\n",
    "path_EdStatsCountry = \"C:/Users/victo/Desktop/Formation Data Scientist OpenClassRoom/Cours2/EdStatsCountry.csv\"\n",
    "df_EdStatsCountry = pd.read_csv(path_EdStatsCountry)\n",
    "\n",
    "path_EdStatsCountrSeries = \"C:/Users/victo/Desktop/Formation Data Scientist OpenClassRoom/Cours2/EdStatsCountry-Series.csv\"\n",
    "df_EdStatsCountrySeries = pd.read_csv(path_EdStatsCountrSeries)\n",
    "\n",
    "# On conserve que les pays (avec monnaie et Region), les autres étant des régions sans monnaie unique\n",
    "list_real_country = df_EdStatsCountry[\n",
    "    (df_EdStatsCountry[\"Currency Unit\"].notna()) & (df_EdStatsCountry[\"Region\"].notna())\n",
    "][\"Short Name\"]\n",
    "list_real_country.name = \"Country Name\"\n",
    "\n",
    "# On ne conserve que les \"vrais\" pays, cad qui ne sont pays des zones géographiques\n",
    "df_EdStatsData = df_EdStatsData[df_EdStatsData[\"Country Name\"].isin(list_real_country)]\n",
    "\n",
    "# nbres lignes et colonnes\n",
    "df_EdStatsData.shape\n",
    "\n",
    "# Les différents métiers concernés par les indicateurs\n",
    "df_EdStatsSeries[\"Topic\"].value_counts()\n",
    "metiers = df_EdStatsSeries[\"Topic\"].unique()"
   ]
  },
  {
   "cell_type": "markdown",
   "id": "8b05c32b-2310-421b-9784-e789ef70b27c",
   "metadata": {},
   "source": [
    "<b> Remise en forme du dataframe </b>"
   ]
  },
  {
   "cell_type": "code",
   "execution_count": 3,
   "id": "603abf50-686c-4181-be04-a0af97f44f1e",
   "metadata": {},
   "outputs": [],
   "source": [
    "annees = [col for col in df_EdStatsData.columns if col.isnumeric()]\n",
    "\n",
    "# Compter les valeurs non-NaN pour chaque année\n",
    "non_nan_counts = df_EdStatsData[annees].count()\n",
    "# Transformer en DataFrame clair\n",
    "result = non_nan_counts.reset_index()\n",
    "result.columns = [\"année\", \"nb_non_nan\"]\n",
    "\n",
    "# Créer la liste d'années de 2000 à 2015, qui sont les années avec le plus de donnéées renseignées\n",
    "annees = np.arange(2010, 2015).tolist()\n",
    "# Convertir chaque année en string\n",
    "annees_str = list(map(str, annees))\n",
    "# Sélectionner uniquement les colonnes années dans cette plage\n",
    "annees_filtrees = [\n",
    "    col\n",
    "    for col in df_EdStatsData.columns\n",
    "    if col.isnumeric() and 2010 <= int(col) <= 2015\n",
    "]\n",
    "# Colonnes non-années\n",
    "autres_colonnes = [col for col in df_EdStatsData.columns if not col.isnumeric()]\n",
    "# Combiner les deux listes\n",
    "colonnes_a_garder = autres_colonnes + annees_filtrees\n",
    "# Créer le DataFrame filtré\n",
    "df_EdStatsData = df_EdStatsData[colonnes_a_garder]\n",
    "\n",
    "# backfill en reprenant l'année précedente\n",
    "df_EdStatsData[annees_filtrees] = df_EdStatsData[annees_filtrees].bfill(axis=1)\n",
    "\n",
    "# === 0. Passage en format long ===\n",
    "df_EdStatsData = df_EdStatsData.melt(\n",
    "    id_vars=[\"Country Name\", \"Indicator Name\"],\n",
    "    value_vars=annees_filtrees,\n",
    "    var_name=\"Année\",\n",
    "    value_name=\"Valeur\",\n",
    ")"
   ]
  },
  {
   "cell_type": "markdown",
   "id": "13405866",
   "metadata": {},
   "source": [
    "Pivot de la table"
   ]
  },
  {
   "cell_type": "code",
   "execution_count": 4,
   "id": "2e4f6f37",
   "metadata": {},
   "outputs": [],
   "source": [
    "# Pivot de la table pour avoir en ligne les pays et en colonne les indicateurs\n",
    "df_EdStatsData = pd.pivot_table(\n",
    "    df_EdStatsData,\n",
    "    values=\"Valeur\",\n",
    "    index=\"Country Name\",  # lignes = pays\n",
    "    columns=\"Indicator Name\",  # colonnes = indicateurs\n",
    "    aggfunc=\"mean\",  # moyenne sur toutes les années\n",
    ")"
   ]
  },
  {
   "cell_type": "markdown",
   "id": "18e7aa34",
   "metadata": {},
   "source": [
    "On filtre les colonnes avec trop de Nan"
   ]
  },
  {
   "cell_type": "code",
   "execution_count": 5,
   "id": "0d435e15",
   "metadata": {},
   "outputs": [],
   "source": [
    "# on calcule le pourcentage de NaN par colonne\n",
    "na_ratio = df_EdStatsData.isna().mean()\n",
    "\n",
    "# on garde uniquement les colonnes dont le % NaN <= 20 %\n",
    "df_EdStatsData = df_EdStatsData.loc[:, na_ratio <= 0.20]\n",
    "\n",
    "# Liste des colonnes à garder, en fonction de notre problématique\n",
    "colonnes_utiles = [\n",
    "    \"Attainment\",\n",
    "    \"Teachers\",\n",
    "    \"Literacy\",\n",
    "    \"Primary\",\n",
    "    \"Secondary\",\n",
    "    \"Tertiary\",\n",
    "    \"Education Equality\",\n",
    "    \"Infrastructure: Communications\",\n",
    "    \"Population\",\n",
    "    # ajouter toutes les colonnes pertinentes pour ton analyse\n",
    "]\n",
    "\n",
    "# Filtrer les indicateurs du DataFrame\n",
    "df_EdStatsSeries = df_EdStatsSeries[df_EdStatsSeries[\"Topic\"].isin(colonnes_utiles)]\n",
    "list_indicators = df_EdStatsSeries[\"Indicator Name\"].unique().tolist()\n",
    "existing_cols = [c for c in list_indicators if c in df_EdStatsData.columns]\n",
    "df_EdStatsData = df_EdStatsData[existing_cols]"
   ]
  },
  {
   "cell_type": "code",
   "execution_count": 6,
   "id": "8970d6b0",
   "metadata": {},
   "outputs": [
    {
     "data": {
      "text/plain": [
       "Index(['Internet users (per 100 people)',\n",
       "       'Official entrance age to primary education (years)',\n",
       "       'Theoretical duration of primary education (years)',\n",
       "       'Enrolment in primary education, both sexes (number)',\n",
       "       'Enrolment in primary education, female (number)',\n",
       "       'Percentage of students in primary education who are female (%)',\n",
       "       'Pupil-teacher ratio in primary education (headcount basis)',\n",
       "       'Gross intake ratio to Grade 1 of primary education, female (%)',\n",
       "       'Gross intake ratio to Grade 1 of primary education, male (%)',\n",
       "       'Gross intake ratio to Grade 1 of primary education, both sexes (%)'],\n",
       "      dtype='object', name='Indicator Name')"
      ]
     },
     "execution_count": 6,
     "metadata": {},
     "output_type": "execute_result"
    }
   ],
   "source": [
    "# Liste de mots-clés par axe\n",
    "keywords = [\"demography\", \"education\", \"internet\", \"economy\"]\n",
    "\n",
    "# Colonnes correspondant aux mots-clés\n",
    "cols_match = [\n",
    "    c for c in df_EdStatsData.columns if any(k.lower() in c.lower() for k in keywords)\n",
    "]\n",
    "\n",
    "# Limite à 10 indicateurs max\n",
    "cols_match = cols_match[:10]\n",
    "\n",
    "df_filtered = df_EdStatsData[cols_match]\n",
    "df_filtered.columns"
   ]
  },
  {
   "cell_type": "markdown",
   "id": "6c7142fd",
   "metadata": {},
   "source": [
    "Score Pondéré"
   ]
  },
  {
   "cell_type": "code",
   "execution_count": 7,
   "id": "34cd8d32",
   "metadata": {},
   "outputs": [],
   "source": [
    "from sklearn.preprocessing import StandardScaler\n",
    "\n",
    "scaler = StandardScaler()\n",
    "df_scaled = df_filtered.copy()\n",
    "df_scaled[cols_match] = scaler.fit_transform(df_filtered[cols_match])\n",
    "\n",
    "# Exemple : pondération égale ou définie par axe\n",
    "weights = {col: 1 / len(cols_match) for col in cols_match}\n",
    "\n",
    "df_scaled[\"Score\"] = sum(df_scaled[col] * w for col, w in weights.items())"
   ]
  },
  {
   "cell_type": "markdown",
   "id": "f8b9fd0a",
   "metadata": {},
   "source": [
    "Visualisation sur Carte Mondiale"
   ]
  },
  {
   "cell_type": "code",
   "execution_count": 8,
   "id": "5bfba23e",
   "metadata": {},
   "outputs": [
    {
     "name": "stderr",
     "output_type": "stream",
     "text": [
      "C:\\Users\\victo\\AppData\\Local\\Temp\\ipykernel_162176\\1507359622.py:7: DeprecationWarning:\n",
      "\n",
      "The library used by the *country names* `locationmode` option is changing in an upcoming version. Country names in existing plots may not work in the new version. To ensure consistent behavior, consider setting `locationmode` to *ISO-3*.\n",
      "\n"
     ]
    }
   ],
   "source": [
    "import plotly.express as px\n",
    "import plotly.io as pio\n",
    "\n",
    "import nbformat\n",
    "\n",
    "pio.renderers.default = \"browser\"\n",
    "fig = px.choropleth(\n",
    "    df_scaled.reset_index(),\n",
    "    locations=\"Country Name\",\n",
    "    locationmode=\"country names\",\n",
    "    color=\"Score\",\n",
    "    color_continuous_scale=\"Viridis\",\n",
    "    title=\"Carte mondiale des scores pondérés\",\n",
    ")\n",
    "\n",
    "fig.show()"
   ]
  }
 ],
 "metadata": {
  "kernelspec": {
   "display_name": ".venv (3.11.9)",
   "language": "python",
   "name": "python3"
  },
  "language_info": {
   "codemirror_mode": {
    "name": "ipython",
    "version": 3
   },
   "file_extension": ".py",
   "mimetype": "text/x-python",
   "name": "python",
   "nbconvert_exporter": "python",
   "pygments_lexer": "ipython3",
   "version": "3.11.9"
  }
 },
 "nbformat": 4,
 "nbformat_minor": 5
}
